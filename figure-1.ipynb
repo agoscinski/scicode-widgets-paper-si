{
 "cells": [
  {
   "cell_type": "code",
   "execution_count": null,
   "id": "0",
   "metadata": {},
   "outputs": [],
   "source": [
    "from scwidgets import CodeExercise\n",
    "import matplotlib.pyplot as plt\n",
    "import numpy as np\n",
    "\n",
    "def sin(x, frequency):\n",
    "    import numpy as np\n",
    "    return np.sin(x/frequency)\n",
    "\n",
    "parameters = {\"frequency\":(0.5, 3.14, 0.1)}\n",
    "figure = plt.figure()\n",
    "\n",
    "def process(code_ex):\n",
    "    x = np.linspace(-2*np.pi, 2*np.pi, 200)\n",
    "    y = code_ex.code(x, code_ex.parameters[\"frequency\"])\n",
    "    code_ex.figure.gca().plot(x,y)\n",
    "    \n",
    "code_ex = CodeExercise(\n",
    "    code=sin,\n",
    "    parameters=parameters,\n",
    "    outputs=figure,\n",
    "    update=process\n",
    ")\n",
    "code_ex.run_update()\n",
    "code_ex"
   ]
  }
 ],
 "metadata": {
  "kernelspec": {
   "display_name": "Python 3 (ipykernel)",
   "language": "python",
   "name": "python3"
  },
  "language_info": {
   "codemirror_mode": {
    "name": "ipython",
    "version": 3
   },
   "file_extension": ".py",
   "mimetype": "text/x-python",
   "name": "python",
   "nbconvert_exporter": "python",
   "pygments_lexer": "ipython3",
   "version": "3.11.0"
  }
 },
 "nbformat": 4,
 "nbformat_minor": 5
}
