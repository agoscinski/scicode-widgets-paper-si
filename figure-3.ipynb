{
 "cells": [
  {
   "cell_type": "code",
   "execution_count": null,
   "id": "0",
   "metadata": {},
   "outputs": [],
   "source": [
    "from scwidgets import CodeExercise, CheckRegistry, assert_type, assert_shape, assert_equal, CueOutput\n",
    "\n",
    "def square(x):\n",
    "    return x**2\n",
    "\n",
    "def update(code_ex):\n",
    "    with code_ex.output:\n",
    "        print(code_ex.code(code_ex.parameters['x']))\n",
    "\n",
    "check_registry = CheckRegistry()\n",
    "\n",
    "code_ex = CodeExercise(\n",
    "    code=square,\n",
    "    update=update,\n",
    "    outputs=CueOutput(),\n",
    "    parameters={\"x\": (0, 10, 1)},\n",
    "    check_registry=check_registry,\n",
    ")\n",
    "\n",
    "check_registry.add_check(\n",
    "    code_ex,\n",
    "    asserts=[\n",
    "        assert_type, # checks if same type as reference values \n",
    "        assert_shape, # checks if same shape as reference values\n",
    "        assert_equal, # checks if allclose to reference values\n",
    "    ],\n",
    "    inputs_parameters=[{\"x\": 8}],\n",
    "    outputs_references=[(64,)]\n",
    ")\n",
    "\n",
    "code_ex"
   ]
  }
 ],
 "metadata": {
  "kernelspec": {
   "display_name": "Python 3 (ipykernel)",
   "language": "python",
   "name": "python3"
  },
  "language_info": {
   "codemirror_mode": {
    "name": "ipython",
    "version": 3
   },
   "file_extension": ".py",
   "mimetype": "text/x-python",
   "name": "python",
   "nbconvert_exporter": "python",
   "pygments_lexer": "ipython3",
   "version": "3.11.0"
  }
 },
 "nbformat": 4,
 "nbformat_minor": 5
}
