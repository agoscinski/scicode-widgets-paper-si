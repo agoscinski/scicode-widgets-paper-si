{
 "cells": [
  {
   "cell_type": "code",
   "execution_count": null,
   "id": "0",
   "metadata": {},
   "outputs": [],
   "source": [
    "from scwidgets import (\n",
    "    CodeExercise,\n",
    "    CheckRegistry,\n",
    "    assert_type,\n",
    "    assert_shape,\n",
    "    assert_numpy_allclose\n",
    ")\n",
    "\n",
    "import numpy as np\n",
    "\n",
    "def sin(x):\n",
    "    import numpy as np\n",
    "    return np.cos(x) # Whoops! Wrong function\n",
    "    \n",
    "check_registry = CheckRegistry()\n",
    "\n",
    "code_ex = CodeExercise(\n",
    "    code=sin,\n",
    "    check_registry=check_registry,\n",
    ")\n",
    "\n",
    "check_registry.add_check(\n",
    "    code_ex,\n",
    "    asserts=[\n",
    "        assert_type, # checks if same type as reference values \n",
    "        assert_shape, # checks if same shape as reference values\n",
    "        assert_numpy_allclose, # checks if allclose to reference values\n",
    "    ],\n",
    "    inputs_parameters=[{\"x\": np.asarray([0., np.pi, 2*np.pi])}],\n",
    "    outputs_references=[(np.asarray([0., 0., 0.]),)],\n",
    ")\n",
    "\n",
    "def assert_2pi_periodic():\n",
    "    if not np.allclose(code_ex.code(0), code_ex.code(2*np.pi)):\n",
    "        return \"Function is not periodic.\"\n",
    "    return \"\" # empty strings means it passes\n",
    "\n",
    "check_registry.add_check(\n",
    "    code_ex,\n",
    "    asserts=[\n",
    "        assert_2pi_periodic,\n",
    "    ]\n",
    ")\n",
    "\n",
    "check_registry.add_check(\n",
    "    code_ex,\n",
    "    asserts=assert_numpy_allclose,\n",
    "    fingerprint = lambda x: np.sum(x),\n",
    "    inputs_parameters=[{\"x\": np.asarray([0., np.pi, 2*np.pi])}],\n",
    "    outputs_references=[(0.,),],\n",
    ")\n",
    "\n",
    "code_ex"
   ]
  }
 ],
 "metadata": {
  "kernelspec": {
   "display_name": "Python 3 (ipykernel)",
   "language": "python",
   "name": "python3"
  },
  "language_info": {
   "codemirror_mode": {
    "name": "ipython",
    "version": 3
   },
   "file_extension": ".py",
   "mimetype": "text/x-python",
   "name": "python",
   "nbconvert_exporter": "python",
   "pygments_lexer": "ipython3",
   "version": "3.11.0"
  }
 },
 "nbformat": 4,
 "nbformat_minor": 5
}
