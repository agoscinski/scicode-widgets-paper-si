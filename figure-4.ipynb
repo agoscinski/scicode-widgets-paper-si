{
 "cells": [
  {
   "cell_type": "code",
   "execution_count": null,
   "id": "0",
   "metadata": {
    "jupyter": {
     "source_hidden": true
    },
    "tags": []
   },
   "outputs": [],
   "source": [
    "from scwidgets.code import CodeInput, ParametersPanel\n",
    "from scwidgets.cue import CueFigure\n",
    "from scwidgets.exercise import CodeExercise, TextExercise\n",
    "\n",
    "import matplotlib.pyplot as plt\n",
    "import numpy as np"
   ]
  },
  {
   "cell_type": "code",
   "execution_count": null,
   "id": "1",
   "metadata": {
    "jupyter": {
     "source_hidden": true
    },
    "tags": []
   },
   "outputs": [],
   "source": [
    "from ipywidgets import Layout"
   ]
  },
  {
   "cell_type": "code",
   "execution_count": null,
   "id": "2",
   "metadata": {
    "jupyter": {
     "source_hidden": true
    }
   },
   "outputs": [],
   "source": [
    "from scwidgets.code import CodeInput, ParametersPanel\n",
    "from scwidgets.cue import CueFigure\n",
    "from scwidgets.exercise import CodeExercise, TextExercise\n",
    "from ipywidgets import IntSlider, FloatSlider\n",
    "\n",
    "import matplotlib.pyplot as plt\n",
    "import numpy as np"
   ]
  },
  {
   "cell_type": "code",
   "execution_count": null,
   "id": "3",
   "metadata": {
    "jupyter": {
     "source_hidden": true
    },
    "tags": []
   },
   "outputs": [],
   "source": [
    "TextExercise(\n",
    "    title=\"Derive solution for weights\",\n",
    "    description=\"\"\"\n",
    "    <p style=\"width: 500px;\">We can define ridge regression by extending the ordinary least\n",
    "    square solution by a penalization $\\\\lambda\\\\|\\\\mathbf{w}\\\\|_2^2$. Please derive the solution\n",
    "    for the weights from the optimization problem:</p>\n",
    "    $$\\\\hat{\\\\mathbf{w}} = \\\\min_\\\\mathbf{w} \\\\|\\\\mathbf{y}-\\\\mathbf{X}\\\\mathbf{w}\\\\|^2 + \\\\lambda\\\\|\\\\mathbf{w}\\\\|^2$$\"\"\",\n",
    "    layout=Layout(width=\"430px\", height=\"50px\")\n",
    ")"
   ]
  },
  {
   "cell_type": "code",
   "execution_count": null,
   "id": "4",
   "metadata": {
    "jupyter": {
     "source_hidden": true
    },
    "tags": []
   },
   "outputs": [],
   "source": [
    "from scwidgets.code import CodeInput, ParametersPanel\n",
    "from scwidgets.cue import CueFigure\n",
    "from scwidgets.exercise import CodeExercise\n",
    "from ipywidgets import IntSlider, FloatSlider\n",
    "\n",
    "import matplotlib.pyplot as plt\n",
    "import numpy as np\n",
    "\n",
    "# This is what the students sees and can adapt\n",
    "def compute_weigths(X, y, regularizer):\n",
    "    \"\"\"Implements ridge regression\"\"\"\n",
    "    from numpy.linalg import inv\n",
    "    return inv(X.T@X + regularizer) @ X.T @ y\n",
    "\n",
    "code_input = CodeInput(compute_weigths, builtins={'np': np})\n",
    "\n",
    "#ex_figure, _ = plt.subplots(1, 1, figsize=(7.5, 3.8))\n",
    "ex_figure = plt.figure(tight_layout=True, figsize=(4.5, 3.5))\n",
    "# We wrap figures so we can enforce a behaviour that is conform with the\n",
    "# CodeExercise widget.\n",
    "cue_ex_figure = CueFigure(ex_figure)\n",
    "\n",
    "# We wrap figures so we can enforce a behaviour that is conform with the\n",
    "# CodeExercise widget.\n",
    "cue_ex_figure = CueFigure(ex_figure)\n",
    "learning_figure = CueFigure(plt.figure(tight_layout=True, figsize=(4.5, 3.5)))\n",
    "\n",
    "\n",
    "rng = np.random.default_rng(seed=1)\n",
    "#x = rng.standard_normal((50, 1))\n",
    "x = rng.random((100, 1)) *4 -2\n",
    "weights = rng.standard_normal(5)\n",
    "y_true = np.hstack([x**degree for degree in range(1,6)]) @ weights \n",
    "x_grid = np.linspace(-2., 2., 100)\n",
    "xstack = np.stack([x_grid**degree for degree in range(1,6)]).T\n",
    "y_grid = xstack @ weights\n",
    "# This is hidden to the student, so we can do the pre- and postprocessing\n",
    "\n",
    "parameter_panel = ParametersPanel(regularizer_log10=IntSlider(-1, -9, 9, step=3, description=\"$\\\\normalsize\\\\log_{10}\\\\lambda$\"),\n",
    "                                 noise_sigma=FloatSlider(value=5.0, min=0.0, max=20, step=1, description=\"$\\\\normalsize\\\\sigma$\"),\n",
    "                                 degree_max=IntSlider(value=2, min=0, max=10, step=1, description=\"$\\\\normalsize d_\\\\text{max}$\"),\n",
    "                                 nb_samples=IntSlider(value=20, min=10, max=100, step=1, description=\"$\\\\normalsize n_\\\\text{samples}$\"))\n",
    "def rmse(y_pred, y_true):\n",
    "    return np.sqrt(np.mean((y_pred-y_true)**2))\n",
    "\n",
    "# this is hidden to the student \n",
    "def ex_updater():\n",
    "    nb_samples = parameter_panel.panel_parameters[\"nb_samples\"]\n",
    "    X = np.hstack([x[:nb_samples]**degree for degree in range(parameter_panel.panel_parameters[\"degree_max\"]+1)])\n",
    "    noise_sigma = parameter_panel.panel_parameters[\"noise_sigma\"]\n",
    "    regularizer = 10**parameter_panel.panel_parameters[\"regularizer_log10\"]\n",
    "    rng = np.random.default_rng(seed=5)\n",
    "    noise = rng.normal(loc=0, scale=noise_sigma, size=y_true.shape)\n",
    "    y_true_ = y_true[:nb_samples]\n",
    "    noise = noise[:nb_samples]\n",
    "    y_noisy = y_true_ + noise\n",
    "    weight_pred = code_input.get_function_object()(X, y_noisy, regularizer)\n",
    "    y_pred = X@weight_pred\n",
    "    xstack = np.stack([x_grid**degree for degree in range(parameter_panel.panel_parameters[\"degree_max\"]+1)]).T\n",
    "    y_grid_pred = xstack@weight_pred\n",
    "\n",
    "    \n",
    "    cue_ex_figure.clear_figure()\n",
    "    ax = cue_ex_figure.figure.gca()\n",
    "    #ax.plot([-10, 10], [-10, 10], color='black', alpha=0.5)\n",
    "    print(f\"train error: {rmse(y_pred, y_noisy):.2f}, test error: {rmse(y_pred, y_true_):.2f}\")\n",
    "    ax.plot(x_grid, y_grid, linestyle=\"-\", label=\"$f(x)$\")\n",
    "    ax.scatter(x[:nb_samples], y_noisy, label=\"$f(x_i)+\\\\epsilon_i$\")\n",
    "    \n",
    "    ax.plot(x_grid, y_grid_pred, label=\"$\\\\hat{f}(x)$\")\n",
    "    #ax.plot([-500], [-500], label=\"$g(x)$\", marker='o', color='C1')\n",
    "    ax.scatter(x[:nb_samples], y_pred, label=\"$\\\\hat{f}(x_i)$\")\n",
    "    #ax.set_title(\"parity plot\")\n",
    "    #ax.scatter(y, y_true_)\n",
    "    ax.set_xlabel(\"$x$\")\n",
    "    ax.set_ylabel(\"$f(x)$\")\n",
    "    ax.set_ylim(np.min(y_true), np.max(y_true))\n",
    "    ax.set_xlim(np.min(x), np.max(x))\n",
    "    ax.legend()\n",
    "    \n",
    "code_ex = CodeExercise(\n",
    "    code=code_input,\n",
    "    parameters=parameter_panel,\n",
    "    outputs=cue_ex_figure,\n",
    "    update=ex_updater,\n",
    "    update_mode=\"continuous\",\n",
    "    title=\"Ridge regression\",\n",
    "    description=\"\"\"\n",
    "        <p style=\"width: 500px;\">\n",
    "        Implements the computation of the weights in ridge regression for the regularization parameter $\\\\lambda$.\n",
    "        The ground truth function is $f(x) = 0.33x-0.65x^2+0.86x^3-0.12x^4+0.66x^5$.\n",
    "        The ground truth labels are added with a noise $f(x_i) + \\\\epsilon_i = y^\\\\textrm{true}_i + \\\\epsilon_i$ that are sampled from a Gaussian\n",
    "        distribution $\\\\epsilon_i\\\\sim\\\\mathcal{N}(0, \\\\sigma^2)$.\n",
    "        \"\"\"\n",
    ")\n",
    "\n",
    "\n",
    "code_ex.run_update()\n",
    "code_ex"
   ]
  },
  {
   "cell_type": "code",
   "execution_count": null,
   "id": "5",
   "metadata": {
    "jupyter": {
     "source_hidden": true
    }
   },
   "outputs": [],
   "source": [
    "TextExercise(\n",
    "    title=\"Questions\",\n",
    "    description=\"\"\"\n",
    "    <p style=\"width: 500px;\">For which parameters a nearly exact solution can be reproduced?\n",
    "    What other relationships can you observe?\"\"\",\n",
    "    layout=Layout(width=\"430px\", height=\"50px\")\n",
    ")"
   ]
  }
 ],
 "metadata": {
  "kernelspec": {
   "display_name": "Python 3 (ipykernel)",
   "language": "python",
   "name": "python3"
  },
  "language_info": {
   "codemirror_mode": {
    "name": "ipython",
    "version": 3
   },
   "file_extension": ".py",
   "mimetype": "text/x-python",
   "name": "python",
   "nbconvert_exporter": "python",
   "pygments_lexer": "ipython3",
   "version": "3.11.0"
  }
 },
 "nbformat": 4,
 "nbformat_minor": 5
}
